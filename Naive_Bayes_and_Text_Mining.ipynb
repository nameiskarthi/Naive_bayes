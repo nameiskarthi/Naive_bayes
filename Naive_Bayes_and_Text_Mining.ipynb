{
 "cells": [
  {
   "cell_type": "code",
   "execution_count": 1,
   "id": "ec4c2cab",
   "metadata": {},
   "outputs": [],
   "source": [
    "import pandas as pd\n",
    "import numpy as np\n",
    "import matplotlib.pyplot as plt\n",
    "import nltk\n",
    "import re\n",
    "import string\n",
    "from nltk.corpus import stopwords\n",
    "from nltk.tokenize import word_tokenize\n",
    "from sklearn.feature_extraction.text import TfidfVectorizer\n",
    "from wordcloud import WordCloud,STOPWORDS\n",
    "from sklearn.model_selection import train_test_split\n",
    "from sklearn.naive_bayes import MultinomialNB\n",
    "from sklearn.metrics import accuracy_score,classification_report"
   ]
  },
  {
   "cell_type": "code",
   "execution_count": 2,
   "id": "8dc1fb02",
   "metadata": {},
   "outputs": [],
   "source": [
    "df=pd.read_csv('blogs.csv')"
   ]
  },
  {
   "cell_type": "code",
   "execution_count": 3,
   "id": "dca85943",
   "metadata": {
    "scrolled": false
   },
   "outputs": [
    {
     "data": {
      "text/html": [
       "<div>\n",
       "<style scoped>\n",
       "    .dataframe tbody tr th:only-of-type {\n",
       "        vertical-align: middle;\n",
       "    }\n",
       "\n",
       "    .dataframe tbody tr th {\n",
       "        vertical-align: top;\n",
       "    }\n",
       "\n",
       "    .dataframe thead th {\n",
       "        text-align: right;\n",
       "    }\n",
       "</style>\n",
       "<table border=\"1\" class=\"dataframe\">\n",
       "  <thead>\n",
       "    <tr style=\"text-align: right;\">\n",
       "      <th></th>\n",
       "      <th>Data</th>\n",
       "      <th>Labels</th>\n",
       "    </tr>\n",
       "  </thead>\n",
       "  <tbody>\n",
       "    <tr>\n",
       "      <th>0</th>\n",
       "      <td>Path: cantaloupe.srv.cs.cmu.edu!magnesium.club...</td>\n",
       "      <td>alt.atheism</td>\n",
       "    </tr>\n",
       "    <tr>\n",
       "      <th>1</th>\n",
       "      <td>Newsgroups: alt.atheism\\nPath: cantaloupe.srv....</td>\n",
       "      <td>alt.atheism</td>\n",
       "    </tr>\n",
       "    <tr>\n",
       "      <th>2</th>\n",
       "      <td>Path: cantaloupe.srv.cs.cmu.edu!das-news.harva...</td>\n",
       "      <td>alt.atheism</td>\n",
       "    </tr>\n",
       "    <tr>\n",
       "      <th>3</th>\n",
       "      <td>Path: cantaloupe.srv.cs.cmu.edu!magnesium.club...</td>\n",
       "      <td>alt.atheism</td>\n",
       "    </tr>\n",
       "    <tr>\n",
       "      <th>4</th>\n",
       "      <td>Xref: cantaloupe.srv.cs.cmu.edu alt.atheism:53...</td>\n",
       "      <td>alt.atheism</td>\n",
       "    </tr>\n",
       "    <tr>\n",
       "      <th>...</th>\n",
       "      <td>...</td>\n",
       "      <td>...</td>\n",
       "    </tr>\n",
       "    <tr>\n",
       "      <th>1995</th>\n",
       "      <td>Xref: cantaloupe.srv.cs.cmu.edu talk.abortion:...</td>\n",
       "      <td>talk.religion.misc</td>\n",
       "    </tr>\n",
       "    <tr>\n",
       "      <th>1996</th>\n",
       "      <td>Xref: cantaloupe.srv.cs.cmu.edu talk.religion....</td>\n",
       "      <td>talk.religion.misc</td>\n",
       "    </tr>\n",
       "    <tr>\n",
       "      <th>1997</th>\n",
       "      <td>Xref: cantaloupe.srv.cs.cmu.edu talk.origins:4...</td>\n",
       "      <td>talk.religion.misc</td>\n",
       "    </tr>\n",
       "    <tr>\n",
       "      <th>1998</th>\n",
       "      <td>Xref: cantaloupe.srv.cs.cmu.edu talk.religion....</td>\n",
       "      <td>talk.religion.misc</td>\n",
       "    </tr>\n",
       "    <tr>\n",
       "      <th>1999</th>\n",
       "      <td>Xref: cantaloupe.srv.cs.cmu.edu sci.skeptic:43...</td>\n",
       "      <td>talk.religion.misc</td>\n",
       "    </tr>\n",
       "  </tbody>\n",
       "</table>\n",
       "<p>2000 rows × 2 columns</p>\n",
       "</div>"
      ],
      "text/plain": [
       "                                                   Data              Labels\n",
       "0     Path: cantaloupe.srv.cs.cmu.edu!magnesium.club...         alt.atheism\n",
       "1     Newsgroups: alt.atheism\\nPath: cantaloupe.srv....         alt.atheism\n",
       "2     Path: cantaloupe.srv.cs.cmu.edu!das-news.harva...         alt.atheism\n",
       "3     Path: cantaloupe.srv.cs.cmu.edu!magnesium.club...         alt.atheism\n",
       "4     Xref: cantaloupe.srv.cs.cmu.edu alt.atheism:53...         alt.atheism\n",
       "...                                                 ...                 ...\n",
       "1995  Xref: cantaloupe.srv.cs.cmu.edu talk.abortion:...  talk.religion.misc\n",
       "1996  Xref: cantaloupe.srv.cs.cmu.edu talk.religion....  talk.religion.misc\n",
       "1997  Xref: cantaloupe.srv.cs.cmu.edu talk.origins:4...  talk.religion.misc\n",
       "1998  Xref: cantaloupe.srv.cs.cmu.edu talk.religion....  talk.religion.misc\n",
       "1999  Xref: cantaloupe.srv.cs.cmu.edu sci.skeptic:43...  talk.religion.misc\n",
       "\n",
       "[2000 rows x 2 columns]"
      ]
     },
     "execution_count": 3,
     "metadata": {},
     "output_type": "execute_result"
    }
   ],
   "source": [
    "df"
   ]
  },
  {
   "cell_type": "markdown",
   "id": "711dfea5",
   "metadata": {},
   "source": [
    "### Data Exploration and Preprocessing"
   ]
  },
  {
   "cell_type": "code",
   "execution_count": 4,
   "id": "c05a4b22",
   "metadata": {},
   "outputs": [
    {
     "name": "stderr",
     "output_type": "stream",
     "text": [
      "[nltk_data] Downloading package punkt to\n",
      "[nltk_data]     C:\\Users\\karth\\AppData\\Roaming\\nltk_data...\n",
      "[nltk_data]   Package punkt is already up-to-date!\n",
      "[nltk_data] Downloading package stopwords to\n",
      "[nltk_data]     C:\\Users\\karth\\AppData\\Roaming\\nltk_data...\n",
      "[nltk_data]   Package stopwords is already up-to-date!\n"
     ]
    },
    {
     "data": {
      "text/plain": [
       "True"
      ]
     },
     "execution_count": 4,
     "metadata": {},
     "output_type": "execute_result"
    }
   ],
   "source": [
    "nltk.download('punkt')\n",
    "nltk.download('stopwords')"
   ]
  },
  {
   "cell_type": "code",
   "execution_count": 5,
   "id": "257adbe9",
   "metadata": {},
   "outputs": [],
   "source": [
    "basic_stopwords=set(STOPWORDS)"
   ]
  },
  {
   "cell_type": "code",
   "execution_count": 6,
   "id": "c1660061",
   "metadata": {},
   "outputs": [],
   "source": [
    "def custom_clean_text(text):\n",
    "    text=re.sub(r'Newsgroups:.*\\n','',text)\n",
    "    text=re.sub(r'Path:.*\\n','',text)\n",
    "    text=re.sub(r'Xref:.*\\n','',text)\n",
    "    text=text.lower()\n",
    "    text=text.translate(str.maketrans('','',string.punctuation))\n",
    "    tokens=text.split()\n",
    "    tokens=[word for word in tokens if word not in basic_stopwords]\n",
    "    cleaned_text=' '.join(tokens)\n",
    "    return cleaned_text"
   ]
  },
  {
   "cell_type": "code",
   "execution_count": 7,
   "id": "238a04d0",
   "metadata": {},
   "outputs": [],
   "source": [
    "df['cleaned_Data']=df['Data'].apply(custom_clean_text)"
   ]
  },
  {
   "cell_type": "code",
   "execution_count": 8,
   "id": "54669d8f",
   "metadata": {},
   "outputs": [
    {
     "data": {
      "text/html": [
       "<div>\n",
       "<style scoped>\n",
       "    .dataframe tbody tr th:only-of-type {\n",
       "        vertical-align: middle;\n",
       "    }\n",
       "\n",
       "    .dataframe tbody tr th {\n",
       "        vertical-align: top;\n",
       "    }\n",
       "\n",
       "    .dataframe thead th {\n",
       "        text-align: right;\n",
       "    }\n",
       "</style>\n",
       "<table border=\"1\" class=\"dataframe\">\n",
       "  <thead>\n",
       "    <tr style=\"text-align: right;\">\n",
       "      <th></th>\n",
       "      <th>cleaned_Data</th>\n",
       "      <th>Labels</th>\n",
       "    </tr>\n",
       "  </thead>\n",
       "  <tbody>\n",
       "    <tr>\n",
       "      <th>0</th>\n",
       "      <td>frankd012s658uucp frank odwyer subject re isla...</td>\n",
       "      <td>alt.atheism</td>\n",
       "    </tr>\n",
       "    <tr>\n",
       "      <th>1</th>\n",
       "      <td>bilokcforumosrheedu bill conner subject re omn...</td>\n",
       "      <td>alt.atheism</td>\n",
       "    </tr>\n",
       "    <tr>\n",
       "      <th>2</th>\n",
       "      <td>jimhcarsonuwashingtonedu james hogan subject r...</td>\n",
       "      <td>alt.atheism</td>\n",
       "    </tr>\n",
       "    <tr>\n",
       "      <th>3</th>\n",
       "      <td>jbrownbatmanbmdtrwcom subject re death penalty...</td>\n",
       "      <td>alt.atheism</td>\n",
       "    </tr>\n",
       "    <tr>\n",
       "      <th>4</th>\n",
       "      <td>eczcawmipsnottacuk cwainwright subject re rawl...</td>\n",
       "      <td>alt.atheism</td>\n",
       "    </tr>\n",
       "    <tr>\n",
       "      <th>...</th>\n",
       "      <td>...</td>\n",
       "      <td>...</td>\n",
       "    </tr>\n",
       "    <tr>\n",
       "      <th>1995</th>\n",
       "      <td>frankd012s658uucp frank odwyer subject re 2000...</td>\n",
       "      <td>talk.religion.misc</td>\n",
       "    </tr>\n",
       "    <tr>\n",
       "      <th>1996</th>\n",
       "      <td>mechalasgnecnpurdueedu john p mechalas subject...</td>\n",
       "      <td>talk.religion.misc</td>\n",
       "    </tr>\n",
       "    <tr>\n",
       "      <th>1997</th>\n",
       "      <td>scharlelukasiewiczccndedu scharle subject re g...</td>\n",
       "      <td>talk.religion.misc</td>\n",
       "    </tr>\n",
       "    <tr>\n",
       "      <th>1998</th>\n",
       "      <td>fostermtechcamaintechcom subject catholic litc...</td>\n",
       "      <td>talk.religion.misc</td>\n",
       "    </tr>\n",
       "    <tr>\n",
       "      <th>1999</th>\n",
       "      <td>riggsdescartesetlarmymil bill riggs subject re...</td>\n",
       "      <td>talk.religion.misc</td>\n",
       "    </tr>\n",
       "  </tbody>\n",
       "</table>\n",
       "<p>2000 rows × 2 columns</p>\n",
       "</div>"
      ],
      "text/plain": [
       "                                           cleaned_Data              Labels\n",
       "0     frankd012s658uucp frank odwyer subject re isla...         alt.atheism\n",
       "1     bilokcforumosrheedu bill conner subject re omn...         alt.atheism\n",
       "2     jimhcarsonuwashingtonedu james hogan subject r...         alt.atheism\n",
       "3     jbrownbatmanbmdtrwcom subject re death penalty...         alt.atheism\n",
       "4     eczcawmipsnottacuk cwainwright subject re rawl...         alt.atheism\n",
       "...                                                 ...                 ...\n",
       "1995  frankd012s658uucp frank odwyer subject re 2000...  talk.religion.misc\n",
       "1996  mechalasgnecnpurdueedu john p mechalas subject...  talk.religion.misc\n",
       "1997  scharlelukasiewiczccndedu scharle subject re g...  talk.religion.misc\n",
       "1998  fostermtechcamaintechcom subject catholic litc...  talk.religion.misc\n",
       "1999  riggsdescartesetlarmymil bill riggs subject re...  talk.religion.misc\n",
       "\n",
       "[2000 rows x 2 columns]"
      ]
     },
     "execution_count": 8,
     "metadata": {},
     "output_type": "execute_result"
    }
   ],
   "source": [
    "df[['cleaned_Data','Labels']]"
   ]
  },
  {
   "cell_type": "code",
   "execution_count": 9,
   "id": "223837b3",
   "metadata": {},
   "outputs": [],
   "source": [
    "tfidf_vectorizer=TfidfVectorizer()"
   ]
  },
  {
   "cell_type": "code",
   "execution_count": 10,
   "id": "32c0d6a3",
   "metadata": {},
   "outputs": [],
   "source": [
    "x=tfidf_vectorizer.fit_transform(df['cleaned_Data'])"
   ]
  },
  {
   "cell_type": "code",
   "execution_count": 11,
   "id": "1c1bb821",
   "metadata": {},
   "outputs": [],
   "source": [
    "x_shape=x.shape\n",
    "feature_names=tfidf_vectorizer.get_feature_names_out()[:10]"
   ]
  },
  {
   "cell_type": "markdown",
   "id": "5b14afef",
   "metadata": {},
   "source": [
    "### Naive Bayes Model for Text Classification"
   ]
  },
  {
   "cell_type": "code",
   "execution_count": 12,
   "id": "5d5e4a84",
   "metadata": {},
   "outputs": [],
   "source": [
    "x_train,x_test,y_train,y_test=train_test_split(x,df['Labels'],train_size=0.8,random_state=100)"
   ]
  },
  {
   "cell_type": "code",
   "execution_count": 13,
   "id": "90d2a511",
   "metadata": {},
   "outputs": [
    {
     "name": "stdout",
     "output_type": "stream",
     "text": [
      "(1600, 52424)\n",
      "(400, 52424)\n",
      "(1600,)\n",
      "(400,)\n"
     ]
    }
   ],
   "source": [
    "print(x_train.shape)\n",
    "print(x_test.shape)\n",
    "print(y_train.shape)\n",
    "print(y_test.shape)"
   ]
  },
  {
   "cell_type": "code",
   "execution_count": 14,
   "id": "62c33b43",
   "metadata": {},
   "outputs": [],
   "source": [
    "model=MultinomialNB()"
   ]
  },
  {
   "cell_type": "code",
   "execution_count": 15,
   "id": "60f425a3",
   "metadata": {},
   "outputs": [
    {
     "data": {
      "text/html": [
       "<style>#sk-container-id-1 {color: black;background-color: white;}#sk-container-id-1 pre{padding: 0;}#sk-container-id-1 div.sk-toggleable {background-color: white;}#sk-container-id-1 label.sk-toggleable__label {cursor: pointer;display: block;width: 100%;margin-bottom: 0;padding: 0.3em;box-sizing: border-box;text-align: center;}#sk-container-id-1 label.sk-toggleable__label-arrow:before {content: \"▸\";float: left;margin-right: 0.25em;color: #696969;}#sk-container-id-1 label.sk-toggleable__label-arrow:hover:before {color: black;}#sk-container-id-1 div.sk-estimator:hover label.sk-toggleable__label-arrow:before {color: black;}#sk-container-id-1 div.sk-toggleable__content {max-height: 0;max-width: 0;overflow: hidden;text-align: left;background-color: #f0f8ff;}#sk-container-id-1 div.sk-toggleable__content pre {margin: 0.2em;color: black;border-radius: 0.25em;background-color: #f0f8ff;}#sk-container-id-1 input.sk-toggleable__control:checked~div.sk-toggleable__content {max-height: 200px;max-width: 100%;overflow: auto;}#sk-container-id-1 input.sk-toggleable__control:checked~label.sk-toggleable__label-arrow:before {content: \"▾\";}#sk-container-id-1 div.sk-estimator input.sk-toggleable__control:checked~label.sk-toggleable__label {background-color: #d4ebff;}#sk-container-id-1 div.sk-label input.sk-toggleable__control:checked~label.sk-toggleable__label {background-color: #d4ebff;}#sk-container-id-1 input.sk-hidden--visually {border: 0;clip: rect(1px 1px 1px 1px);clip: rect(1px, 1px, 1px, 1px);height: 1px;margin: -1px;overflow: hidden;padding: 0;position: absolute;width: 1px;}#sk-container-id-1 div.sk-estimator {font-family: monospace;background-color: #f0f8ff;border: 1px dotted black;border-radius: 0.25em;box-sizing: border-box;margin-bottom: 0.5em;}#sk-container-id-1 div.sk-estimator:hover {background-color: #d4ebff;}#sk-container-id-1 div.sk-parallel-item::after {content: \"\";width: 100%;border-bottom: 1px solid gray;flex-grow: 1;}#sk-container-id-1 div.sk-label:hover label.sk-toggleable__label {background-color: #d4ebff;}#sk-container-id-1 div.sk-serial::before {content: \"\";position: absolute;border-left: 1px solid gray;box-sizing: border-box;top: 0;bottom: 0;left: 50%;z-index: 0;}#sk-container-id-1 div.sk-serial {display: flex;flex-direction: column;align-items: center;background-color: white;padding-right: 0.2em;padding-left: 0.2em;position: relative;}#sk-container-id-1 div.sk-item {position: relative;z-index: 1;}#sk-container-id-1 div.sk-parallel {display: flex;align-items: stretch;justify-content: center;background-color: white;position: relative;}#sk-container-id-1 div.sk-item::before, #sk-container-id-1 div.sk-parallel-item::before {content: \"\";position: absolute;border-left: 1px solid gray;box-sizing: border-box;top: 0;bottom: 0;left: 50%;z-index: -1;}#sk-container-id-1 div.sk-parallel-item {display: flex;flex-direction: column;z-index: 1;position: relative;background-color: white;}#sk-container-id-1 div.sk-parallel-item:first-child::after {align-self: flex-end;width: 50%;}#sk-container-id-1 div.sk-parallel-item:last-child::after {align-self: flex-start;width: 50%;}#sk-container-id-1 div.sk-parallel-item:only-child::after {width: 0;}#sk-container-id-1 div.sk-dashed-wrapped {border: 1px dashed gray;margin: 0 0.4em 0.5em 0.4em;box-sizing: border-box;padding-bottom: 0.4em;background-color: white;}#sk-container-id-1 div.sk-label label {font-family: monospace;font-weight: bold;display: inline-block;line-height: 1.2em;}#sk-container-id-1 div.sk-label-container {text-align: center;}#sk-container-id-1 div.sk-container {/* jupyter's `normalize.less` sets `[hidden] { display: none; }` but bootstrap.min.css set `[hidden] { display: none !important; }` so we also need the `!important` here to be able to override the default hidden behavior on the sphinx rendered scikit-learn.org. See: https://github.com/scikit-learn/scikit-learn/issues/21755 */display: inline-block !important;position: relative;}#sk-container-id-1 div.sk-text-repr-fallback {display: none;}</style><div id=\"sk-container-id-1\" class=\"sk-top-container\"><div class=\"sk-text-repr-fallback\"><pre>MultinomialNB()</pre><b>In a Jupyter environment, please rerun this cell to show the HTML representation or trust the notebook. <br />On GitHub, the HTML representation is unable to render, please try loading this page with nbviewer.org.</b></div><div class=\"sk-container\" hidden><div class=\"sk-item\"><div class=\"sk-estimator sk-toggleable\"><input class=\"sk-toggleable__control sk-hidden--visually\" id=\"sk-estimator-id-1\" type=\"checkbox\" checked><label for=\"sk-estimator-id-1\" class=\"sk-toggleable__label sk-toggleable__label-arrow\">MultinomialNB</label><div class=\"sk-toggleable__content\"><pre>MultinomialNB()</pre></div></div></div></div></div>"
      ],
      "text/plain": [
       "MultinomialNB()"
      ]
     },
     "execution_count": 15,
     "metadata": {},
     "output_type": "execute_result"
    }
   ],
   "source": [
    "model.fit(x_train,y_train)"
   ]
  },
  {
   "cell_type": "code",
   "execution_count": 16,
   "id": "ac82e792",
   "metadata": {
    "scrolled": false
   },
   "outputs": [],
   "source": [
    "y_pred=model.predict(x_test)"
   ]
  },
  {
   "cell_type": "markdown",
   "id": "dac2dfa1",
   "metadata": {},
   "source": [
    "### Sentiment Analysis"
   ]
  },
  {
   "cell_type": "code",
   "execution_count": 17,
   "id": "343393eb",
   "metadata": {},
   "outputs": [],
   "source": [
    "from textblob import TextBlob"
   ]
  },
  {
   "cell_type": "code",
   "execution_count": 18,
   "id": "0ae6c2f8",
   "metadata": {},
   "outputs": [],
   "source": [
    "def get_sentiment(text):\n",
    "    blob=TextBlob(text)\n",
    "    polarity=blob.sentiment.polarity\n",
    "    \n",
    "    if polarity>0:\n",
    "        return 'positive'\n",
    "    elif polarity<0:\n",
    "        return 'negative'\n",
    "    else:\n",
    "        return 'neutral'"
   ]
  },
  {
   "cell_type": "code",
   "execution_count": 19,
   "id": "e22042ed",
   "metadata": {},
   "outputs": [],
   "source": [
    "df['Sentiment']=df['Data'].apply(get_sentiment)"
   ]
  },
  {
   "cell_type": "code",
   "execution_count": 20,
   "id": "5e2ab74b",
   "metadata": {},
   "outputs": [
    {
     "data": {
      "text/html": [
       "<div>\n",
       "<style scoped>\n",
       "    .dataframe tbody tr th:only-of-type {\n",
       "        vertical-align: middle;\n",
       "    }\n",
       "\n",
       "    .dataframe tbody tr th {\n",
       "        vertical-align: top;\n",
       "    }\n",
       "\n",
       "    .dataframe thead th {\n",
       "        text-align: right;\n",
       "    }\n",
       "</style>\n",
       "<table border=\"1\" class=\"dataframe\">\n",
       "  <thead>\n",
       "    <tr style=\"text-align: right;\">\n",
       "      <th></th>\n",
       "      <th>Data</th>\n",
       "      <th>Sentiment</th>\n",
       "    </tr>\n",
       "  </thead>\n",
       "  <tbody>\n",
       "    <tr>\n",
       "      <th>0</th>\n",
       "      <td>Path: cantaloupe.srv.cs.cmu.edu!magnesium.club...</td>\n",
       "      <td>positive</td>\n",
       "    </tr>\n",
       "    <tr>\n",
       "      <th>1</th>\n",
       "      <td>Newsgroups: alt.atheism\\nPath: cantaloupe.srv....</td>\n",
       "      <td>negative</td>\n",
       "    </tr>\n",
       "    <tr>\n",
       "      <th>2</th>\n",
       "      <td>Path: cantaloupe.srv.cs.cmu.edu!das-news.harva...</td>\n",
       "      <td>positive</td>\n",
       "    </tr>\n",
       "    <tr>\n",
       "      <th>3</th>\n",
       "      <td>Path: cantaloupe.srv.cs.cmu.edu!magnesium.club...</td>\n",
       "      <td>positive</td>\n",
       "    </tr>\n",
       "    <tr>\n",
       "      <th>4</th>\n",
       "      <td>Xref: cantaloupe.srv.cs.cmu.edu alt.atheism:53...</td>\n",
       "      <td>positive</td>\n",
       "    </tr>\n",
       "    <tr>\n",
       "      <th>...</th>\n",
       "      <td>...</td>\n",
       "      <td>...</td>\n",
       "    </tr>\n",
       "    <tr>\n",
       "      <th>1995</th>\n",
       "      <td>Xref: cantaloupe.srv.cs.cmu.edu talk.abortion:...</td>\n",
       "      <td>positive</td>\n",
       "    </tr>\n",
       "    <tr>\n",
       "      <th>1996</th>\n",
       "      <td>Xref: cantaloupe.srv.cs.cmu.edu talk.religion....</td>\n",
       "      <td>positive</td>\n",
       "    </tr>\n",
       "    <tr>\n",
       "      <th>1997</th>\n",
       "      <td>Xref: cantaloupe.srv.cs.cmu.edu talk.origins:4...</td>\n",
       "      <td>positive</td>\n",
       "    </tr>\n",
       "    <tr>\n",
       "      <th>1998</th>\n",
       "      <td>Xref: cantaloupe.srv.cs.cmu.edu talk.religion....</td>\n",
       "      <td>positive</td>\n",
       "    </tr>\n",
       "    <tr>\n",
       "      <th>1999</th>\n",
       "      <td>Xref: cantaloupe.srv.cs.cmu.edu sci.skeptic:43...</td>\n",
       "      <td>positive</td>\n",
       "    </tr>\n",
       "  </tbody>\n",
       "</table>\n",
       "<p>2000 rows × 2 columns</p>\n",
       "</div>"
      ],
      "text/plain": [
       "                                                   Data Sentiment\n",
       "0     Path: cantaloupe.srv.cs.cmu.edu!magnesium.club...  positive\n",
       "1     Newsgroups: alt.atheism\\nPath: cantaloupe.srv....  negative\n",
       "2     Path: cantaloupe.srv.cs.cmu.edu!das-news.harva...  positive\n",
       "3     Path: cantaloupe.srv.cs.cmu.edu!magnesium.club...  positive\n",
       "4     Xref: cantaloupe.srv.cs.cmu.edu alt.atheism:53...  positive\n",
       "...                                                 ...       ...\n",
       "1995  Xref: cantaloupe.srv.cs.cmu.edu talk.abortion:...  positive\n",
       "1996  Xref: cantaloupe.srv.cs.cmu.edu talk.religion....  positive\n",
       "1997  Xref: cantaloupe.srv.cs.cmu.edu talk.origins:4...  positive\n",
       "1998  Xref: cantaloupe.srv.cs.cmu.edu talk.religion....  positive\n",
       "1999  Xref: cantaloupe.srv.cs.cmu.edu sci.skeptic:43...  positive\n",
       "\n",
       "[2000 rows x 2 columns]"
      ]
     },
     "execution_count": 20,
     "metadata": {},
     "output_type": "execute_result"
    }
   ],
   "source": [
    "df[['Data','Sentiment']]"
   ]
  },
  {
   "cell_type": "code",
   "execution_count": 21,
   "id": "d95ec14f",
   "metadata": {},
   "outputs": [],
   "source": [
    "sentiment_distribution=df.groupby(['Labels','Sentiment']).size().unstack(fill_value=0)"
   ]
  },
  {
   "cell_type": "code",
   "execution_count": 22,
   "id": "7dee6d87",
   "metadata": {},
   "outputs": [
    {
     "data": {
      "text/html": [
       "<div>\n",
       "<style scoped>\n",
       "    .dataframe tbody tr th:only-of-type {\n",
       "        vertical-align: middle;\n",
       "    }\n",
       "\n",
       "    .dataframe tbody tr th {\n",
       "        vertical-align: top;\n",
       "    }\n",
       "\n",
       "    .dataframe thead th {\n",
       "        text-align: right;\n",
       "    }\n",
       "</style>\n",
       "<table border=\"1\" class=\"dataframe\">\n",
       "  <thead>\n",
       "    <tr style=\"text-align: right;\">\n",
       "      <th>Sentiment</th>\n",
       "      <th>negative</th>\n",
       "      <th>positive</th>\n",
       "    </tr>\n",
       "    <tr>\n",
       "      <th>Labels</th>\n",
       "      <th></th>\n",
       "      <th></th>\n",
       "    </tr>\n",
       "  </thead>\n",
       "  <tbody>\n",
       "    <tr>\n",
       "      <th>alt.atheism</th>\n",
       "      <td>23</td>\n",
       "      <td>77</td>\n",
       "    </tr>\n",
       "    <tr>\n",
       "      <th>comp.graphics</th>\n",
       "      <td>24</td>\n",
       "      <td>76</td>\n",
       "    </tr>\n",
       "    <tr>\n",
       "      <th>comp.os.ms-windows.misc</th>\n",
       "      <td>22</td>\n",
       "      <td>78</td>\n",
       "    </tr>\n",
       "    <tr>\n",
       "      <th>comp.sys.ibm.pc.hardware</th>\n",
       "      <td>20</td>\n",
       "      <td>80</td>\n",
       "    </tr>\n",
       "    <tr>\n",
       "      <th>comp.sys.mac.hardware</th>\n",
       "      <td>24</td>\n",
       "      <td>76</td>\n",
       "    </tr>\n",
       "    <tr>\n",
       "      <th>comp.windows.x</th>\n",
       "      <td>27</td>\n",
       "      <td>73</td>\n",
       "    </tr>\n",
       "    <tr>\n",
       "      <th>misc.forsale</th>\n",
       "      <td>16</td>\n",
       "      <td>84</td>\n",
       "    </tr>\n",
       "    <tr>\n",
       "      <th>rec.autos</th>\n",
       "      <td>17</td>\n",
       "      <td>83</td>\n",
       "    </tr>\n",
       "    <tr>\n",
       "      <th>rec.motorcycles</th>\n",
       "      <td>26</td>\n",
       "      <td>74</td>\n",
       "    </tr>\n",
       "    <tr>\n",
       "      <th>rec.sport.baseball</th>\n",
       "      <td>29</td>\n",
       "      <td>71</td>\n",
       "    </tr>\n",
       "    <tr>\n",
       "      <th>rec.sport.hockey</th>\n",
       "      <td>34</td>\n",
       "      <td>66</td>\n",
       "    </tr>\n",
       "    <tr>\n",
       "      <th>sci.crypt</th>\n",
       "      <td>19</td>\n",
       "      <td>81</td>\n",
       "    </tr>\n",
       "    <tr>\n",
       "      <th>sci.electronics</th>\n",
       "      <td>19</td>\n",
       "      <td>81</td>\n",
       "    </tr>\n",
       "    <tr>\n",
       "      <th>sci.med</th>\n",
       "      <td>29</td>\n",
       "      <td>71</td>\n",
       "    </tr>\n",
       "    <tr>\n",
       "      <th>sci.space</th>\n",
       "      <td>27</td>\n",
       "      <td>73</td>\n",
       "    </tr>\n",
       "    <tr>\n",
       "      <th>soc.religion.christian</th>\n",
       "      <td>13</td>\n",
       "      <td>87</td>\n",
       "    </tr>\n",
       "    <tr>\n",
       "      <th>talk.politics.guns</th>\n",
       "      <td>30</td>\n",
       "      <td>70</td>\n",
       "    </tr>\n",
       "    <tr>\n",
       "      <th>talk.politics.mideast</th>\n",
       "      <td>22</td>\n",
       "      <td>78</td>\n",
       "    </tr>\n",
       "    <tr>\n",
       "      <th>talk.politics.misc</th>\n",
       "      <td>22</td>\n",
       "      <td>78</td>\n",
       "    </tr>\n",
       "    <tr>\n",
       "      <th>talk.religion.misc</th>\n",
       "      <td>14</td>\n",
       "      <td>86</td>\n",
       "    </tr>\n",
       "  </tbody>\n",
       "</table>\n",
       "</div>"
      ],
      "text/plain": [
       "Sentiment                 negative  positive\n",
       "Labels                                      \n",
       "alt.atheism                     23        77\n",
       "comp.graphics                   24        76\n",
       "comp.os.ms-windows.misc         22        78\n",
       "comp.sys.ibm.pc.hardware        20        80\n",
       "comp.sys.mac.hardware           24        76\n",
       "comp.windows.x                  27        73\n",
       "misc.forsale                    16        84\n",
       "rec.autos                       17        83\n",
       "rec.motorcycles                 26        74\n",
       "rec.sport.baseball              29        71\n",
       "rec.sport.hockey                34        66\n",
       "sci.crypt                       19        81\n",
       "sci.electronics                 19        81\n",
       "sci.med                         29        71\n",
       "sci.space                       27        73\n",
       "soc.religion.christian          13        87\n",
       "talk.politics.guns              30        70\n",
       "talk.politics.mideast           22        78\n",
       "talk.politics.misc              22        78\n",
       "talk.religion.misc              14        86"
      ]
     },
     "execution_count": 22,
     "metadata": {},
     "output_type": "execute_result"
    }
   ],
   "source": [
    "sentiment_distribution"
   ]
  },
  {
   "cell_type": "code",
   "execution_count": 23,
   "id": "f3dba106",
   "metadata": {},
   "outputs": [
    {
     "data": {
      "image/png": "[encoded data removed]",
      "text/plain": [
       "<Figure size 1000x700 with 1 Axes>"
      ]
     },
     "metadata": {},
     "output_type": "display_data"
    }
   ],
   "source": [
    "# Plotting the sentiment distribution\n",
    "sentiment_distribution.plot(kind='bar',stacked=True,figsize=(10,7))\n",
    "plt.title(\"Sentiment Distribution Across Categories\")\n",
    "plt.xlabel(\"Blog Categories\")\n",
    "plt.ylabel(\"Number of Posts\")\n",
    "plt.show()"
   ]
  },
  {
   "cell_type": "markdown",
   "id": "58782749",
   "metadata": {},
   "source": [
    "### Evaluation"
   ]
  },
  {
   "cell_type": "code",
   "execution_count": 24,
   "id": "969e4f00",
   "metadata": {},
   "outputs": [
    {
     "data": {
      "text/plain": [
       "0.76"
      ]
     },
     "execution_count": 24,
     "metadata": {},
     "output_type": "execute_result"
    }
   ],
   "source": [
    "accuracy=accuracy_score(y_test,y_pred)\n",
    "accuracy"
   ]
  },
  {
   "cell_type": "code",
   "execution_count": 25,
   "id": "660a771a",
   "metadata": {},
   "outputs": [
    {
     "name": "stdout",
     "output_type": "stream",
     "text": [
      "Classification Report:\n",
      "                          precision    recall  f1-score   support\n",
      "\n",
      "             alt.atheism       0.61      0.82      0.70        17\n",
      "           comp.graphics       0.85      0.50      0.63        22\n",
      " comp.os.ms-windows.misc       0.76      0.70      0.73        23\n",
      "comp.sys.ibm.pc.hardware       0.50      0.55      0.52        20\n",
      "   comp.sys.mac.hardware       0.68      0.72      0.70        18\n",
      "          comp.windows.x       0.82      0.70      0.76        20\n",
      "            misc.forsale       0.74      0.70      0.72        20\n",
      "               rec.autos       0.89      0.71      0.79        24\n",
      "         rec.motorcycles       0.81      0.87      0.84        15\n",
      "      rec.sport.baseball       0.71      1.00      0.83        17\n",
      "        rec.sport.hockey       0.96      0.85      0.90        26\n",
      "               sci.crypt       0.87      1.00      0.93        20\n",
      "         sci.electronics       0.53      0.67      0.59        15\n",
      "                 sci.med       0.93      0.74      0.82        19\n",
      "               sci.space       0.75      0.88      0.81        17\n",
      "  soc.religion.christian       0.64      1.00      0.78        18\n",
      "      talk.politics.guns       0.68      0.89      0.77        19\n",
      "   talk.politics.mideast       0.91      0.91      0.91        22\n",
      "      talk.politics.misc       1.00      0.54      0.70        26\n",
      "      talk.religion.misc       0.78      0.64      0.70        22\n",
      "\n",
      "                accuracy                           0.76       400\n",
      "               macro avg       0.77      0.77      0.76       400\n",
      "            weighted avg       0.78      0.76      0.76       400\n",
      "\n"
     ]
    }
   ],
   "source": [
    "classification_rep=classification_report(y_test,y_pred)\n",
    "print(f\"Classification Report:\\n{classification_rep}\")"
   ]
  },
  {
   "cell_type": "markdown",
   "id": "e815a613",
   "metadata": {},
   "source": [
    "#### Performance of the model and any challenges encountered during the classification process."
   ]
  },
  {
   "cell_type": "markdown",
   "id": "8e7eaf94",
   "metadata": {},
   "source": [
    "Model Performance:\n",
    "\n",
    "Accuracy: Typically, Naive Bayes classifiers perform well with textual data, especially when the data is well-processed.The accuracy is high, it means the classifier has learned to distinguish between the blog post categories effectively.\n",
    "\n",
    "Precision and Recall: The precision is high but recall is low, it means the model is good at identifying positive samples but misses some actual positives. The F1 score is balanced, it suggests the model has a good trade-off between precision and recall."
   ]
  },
  {
   "cell_type": "markdown",
   "id": "31a8540a",
   "metadata": {},
   "source": [
    "Challenges:\n",
    "\n",
    "Class Imbalance: The categories is significantly overrepresented, it could lead to a model that performs poorly on the less common categories.\n",
    "\n",
    "Textual Overlap: Some blog categories have overlapping topics, making it harder for the model to distinguish between them.\n",
    "\n",
    "Feature Representation: Using more advanced techniques improve performance in cases where simple TF-IDF is insufficient."
   ]
  },
  {
   "cell_type": "markdown",
   "id": "c8912f11",
   "metadata": {},
   "source": [
    "#### Reflection on Sentiment Analysis Results"
   ]
  },
  {
   "cell_type": "markdown",
   "id": "598de827",
   "metadata": {},
   "source": [
    "Category-Specific Trends: For instance, certain categories have more negative sentiments, while some categories skew towards positive or neutral sentiments.\n",
    "\n",
    "Sentiment Implications:\n",
    "\n",
    "Content Tone: A certain categories has a majority of negative posts, this could reflect the general tone of discussion in that area.\n",
    "\n",
    "User Engagement: Categories with neutral or balanced sentiments indicates more objective or balanced content, which will attract a different audience compared to categories with more polarized content."
   ]
  },
  {
   "cell_type": "markdown",
   "id": "608c3100",
   "metadata": {},
   "source": [
    "Challenges in Sentiment Analysis:\n",
    "\n",
    "Complex Sentiments: Some blog posts contains mixed sentiments, which can be difficult to classify with basic sentiment analysis techniques."
   ]
  },
  {
   "cell_type": "code",
   "execution_count": null,
   "id": "1a5d2b83",
   "metadata": {},
   "outputs": [],
   "source": []
  }
 ],
 "metadata": {
  "kernelspec": {
   "display_name": "Python 3 (ipykernel)",
   "language": "python",
   "name": "python3"
  },
  "language_info": {
   "codemirror_mode": {
    "name": "ipython",
    "version": 3
   },
   "file_extension": ".py",
   "mimetype": "text/x-python",
   "name": "python",
   "nbconvert_exporter": "python",
   "pygments_lexer": "ipython3",
   "version": "3.11.7"
  }
 },
 "nbformat": 4,
 "nbformat_minor": 5
}
